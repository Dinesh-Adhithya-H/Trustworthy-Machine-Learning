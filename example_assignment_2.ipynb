{
 "cells": [
  {
   "cell_type": "code",
   "execution_count": 1,
   "metadata": {},
   "outputs": [
    {
     "name": "stdout",
     "output_type": "stream",
     "text": [
      "cwd:  c:\\Users\\HP\\OneDrive\\Documents\\GitHub\\Trustworthy-Machine-Learning\n"
     ]
    }
   ],
   "source": [
    "import requests\n",
    "import torch\n",
    "import torch.nn as nn\n",
    "# Do install: \n",
    "# conda install onnx\n",
    "# conda install onnxruntime\n",
    "import onnxruntime as ort\n",
    "import numpy as np\n",
    "import json\n",
    "import io\n",
    "import sys\n",
    "import base64\n",
    "from torch.utils.data import Dataset\n",
    "from typing import Tuple\n",
    "import pickle\n",
    "import os\n",
    "import torch.nn.functional as F\n",
    "import torchvision.transforms as transforms\n",
    "from torch.utils.data import TensorDataset\n",
    "import matplotlib.pyplot as plt\n",
    "import time\n",
    "\n",
    "\n",
    "\n",
    "cwd = os.getcwd()\n",
    "print('cwd: ', cwd)\n",
    "\n",
    "class TaskDataset(Dataset):\n",
    "    def __init__(self, transform=None):\n",
    "\n",
    "        self.ids = []\n",
    "        self.imgs = []\n",
    "        self.labels = []\n",
    "\n",
    "        self.transform = transform\n",
    "\n",
    "    def __getitem__(self, index) -> Tuple[int, torch.Tensor, int]:\n",
    "        id_ = self.ids[index]\n",
    "        img = self.imgs[index]\n",
    "        if not self.transform is None:\n",
    "            img = self.transform(img)\n",
    "        label = self.labels[index]\n",
    "        return id_, img, label\n",
    "\n",
    "    def __len__(self):\n",
    "        return len(self.ids)"
   ]
  },
  {
   "cell_type": "code",
   "execution_count": 2,
   "metadata": {},
   "outputs": [],
   "source": [
    "# ### REQUESTING NEW API ###\n",
    "TOKEN = \"75184352\" # to be changed according to your token (given to you for the assignments)\n",
    "\n",
    "# response = requests.get(\"http://34.71.138.79:9090\" + \"/stealing_launch\", headers={\"token\": TOKEN})\n",
    "# answer = response.json()\n",
    "\n",
    "# print(answer)  # {\"seed\": \"SEED\", \"port\": PORT}\n",
    "# if 'detail' in answer:\n",
    "#     sys.exit(1)\n",
    "\n",
    "# # save the values\n",
    "# SEED = str(answer['seed'])\n",
    "# PORT = str(answer['port'])\n",
    "\n",
    "# # SEED = \"1868949\"\n",
    "# # PORT = \"9002\""
   ]
  },
  {
   "cell_type": "code",
   "execution_count": 3,
   "metadata": {},
   "outputs": [],
   "source": [
    "SEED = \"78446225\"\n",
    "PORT = \"9056\""
   ]
  },
  {
   "cell_type": "code",
   "execution_count": 4,
   "metadata": {},
   "outputs": [],
   "source": [
    "### QUERYING THE API ###\n",
    "\n",
    "def model_stealing(images, port):\n",
    "    endpoint = \"/query\"\n",
    "    url = f\"http://34.71.138.79:{port}\" + endpoint\n",
    "    image_data = []\n",
    "    \n",
    "    for img in images:\n",
    "        img_byte_arr = io.BytesIO()\n",
    "        img.save(img_byte_arr, format='PNG')\n",
    "        img_byte_arr.seek(0)\n",
    "        img_base64 = base64.b64encode(img_byte_arr.getvalue()).decode('utf-8')\n",
    "        image_data.append(img_base64)\n",
    "    \n",
    "    payload = json.dumps(image_data)\n",
    "    response = requests.get(url, files={\"file\": payload}, headers={\"token\": TOKEN})\n",
    "    if response.status_code == 200:\n",
    "        representation = response.json()[\"representations\"]\n",
    "        return representation\n",
    "    else:\n",
    "        raise Exception(\n",
    "            f\"Model stealing failed. Code: {response.status_code}, content: {response.json()}\"\n",
    "        )\n",
    "\n",
    "dataset = torch.load(\"ModelStealingPub.pt\")\n",
    "#out = model_stealing([dataset.imgs[idx] for idx in range(1000)], port=PORT)"
   ]
  },
  {
   "cell_type": "code",
   "execution_count": 5,
   "metadata": {},
   "outputs": [],
   "source": [
    "from torchvision.transforms import ToPILImage\n",
    "\n",
    "def model_stealing_tensor(images, port):\n",
    "    endpoint = \"/query\"\n",
    "    url = f\"http://34.71.138.79:{port}\" + endpoint\n",
    "    \n",
    "    to_pil = ToPILImage()\n",
    "\n",
    "    \n",
    "    image_data = []\n",
    "    for img_tensor in images:\n",
    "        img = to_pil(img_tensor)  # Convert tensor to PIL Image\n",
    "        img_byte_arr = io.BytesIO()\n",
    "        img.save(img_byte_arr, format='PNG')\n",
    "        img_byte_arr.seek(0)\n",
    "        img_base64 = base64.b64encode(img_byte_arr.getvalue()).decode('utf-8')\n",
    "        image_data.append(img_base64)\n",
    "    \n",
    "    payload = json.dumps(image_data)\n",
    "    response = requests.get(url, files={\"file\": payload}, headers={\"token\": TOKEN})\n",
    "    if response.status_code == 200:\n",
    "        representation = response.json()[\"representations\"]\n",
    "        return representation\n",
    "    else:\n",
    "        raise Exception(\n",
    "            f\"Model stealing failed. Code: {response.status_code}, content: {response.json()}\"\n",
    "        )"
   ]
  },
  {
   "cell_type": "code",
   "execution_count": 20,
   "metadata": {},
   "outputs": [
    {
     "name": "stdout",
     "output_type": "stream",
     "text": [
      "1000\n",
      "1024\n",
      "0.21157068014144897\n"
     ]
    }
   ],
   "source": [
    "# 1000 representations in a list\n",
    "print(len(out))\n",
    "\n",
    "# representation 1\n",
    "print(len(out[0]))\n",
    "\n",
    "# first element in the representation\n",
    "print(out[0][0])\n"
   ]
  },
  {
   "cell_type": "markdown",
   "metadata": {},
   "source": [
    "# for submission"
   ]
  },
  {
   "cell_type": "code",
   "execution_count": 5,
   "metadata": {},
   "outputs": [
    {
     "name": "stdout",
     "output_type": "stream",
     "text": [
      "1000\n"
     ]
    }
   ],
   "source": [
    "\n",
    "# Store the output in a file.\n",
    "# Be careful to store all the outputs from the API since the number of queries is limited.\n",
    "with open('out.pickle', 'wb') as handle:\n",
    "    pickle.dump(out, handle, protocol=pickle.HIGHEST_PROTOCOL)\n",
    "\n",
    "# Restore the output from the file.\n",
    "with open('out.pickle', 'rb') as handle:\n",
    "    out = pickle.load(handle)\n",
    "\n",
    "print(len(out))"
   ]
  },
  {
   "cell_type": "code",
   "execution_count": 6,
   "metadata": {},
   "outputs": [
    {
     "name": "stdout",
     "output_type": "stream",
     "text": [
      "{'L2': 34.66728973388672}\n"
     ]
    }
   ],
   "source": [
    "#### SUBMISSION ####\n",
    "\n",
    "# Create a dummy model\n",
    "model = nn.Sequential(nn.Flatten(), nn.Linear(32*32*3, 1024))\n",
    "\n",
    "path = 'dummy_submission.onnx'\n",
    "\n",
    "torch.onnx.export(\n",
    "    model,\n",
    "    torch.randn(1, 3, 32, 32),\n",
    "    path,\n",
    "    export_params=True,\n",
    "    input_names=[\"x\"],\n",
    ")\n",
    "\n",
    "#### Tests ####\n",
    "\n",
    "# (these are being ran on the eval endpoint for every submission)\n",
    "with open(path, \"rb\") as f:\n",
    "    model = f.read()\n",
    "    try:\n",
    "        stolen_model = ort.InferenceSession(model)\n",
    "    except Exception as e:\n",
    "        raise Exception(f\"Invalid model, {e=}\")\n",
    "    try:\n",
    "        out = stolen_model.run(\n",
    "            None, {\"x\": np.random.randn(1, 3, 32, 32).astype(np.float32)}\n",
    "        )[0][0]\n",
    "    except Exception as e:\n",
    "        raise Exception(f\"Some issue with the input, {e=}\")\n",
    "    assert out.shape == (1024,), \"Invalid output shape\"\n",
    "\n",
    "# Send the model to the server\n",
    "response = requests.post(\"http://34.71.138.79:9090/stealing\", files={\"file\": open(path, \"rb\")}, headers={\"token\": TOKEN, \"seed\": SEED})\n",
    "print(response.json())"
   ]
  },
  {
   "cell_type": "markdown",
   "metadata": {},
   "source": [
    "# make a surrogate model\n",
    "# query the API, then use contrastive learning to train a surrogate model\n",
    "# adv image = image + epsilon * sign(d(SM)/d(image))\n",
    "\n",
    "# generate adversarial examples to attack the surrogate model\n",
    "# query the API with the adversarial examples\n",
    "\n",
    "# retrain the surrogate model with the adversarial examples\n",
    "# reapeat the process for a few iterations\n",
    "# then submit the surrogate model"
   ]
  },
  {
   "cell_type": "code",
   "execution_count": 6,
   "metadata": {},
   "outputs": [],
   "source": [
    "# Define a surrogate model with high capacity, input torch.Size([3, 32, 32]) and output torch.Size([1024])\n",
    "import torch\n",
    "from torch import nn\n",
    "\n",
    "class SurrogateModel(nn.Module):\n",
    "    def __init__(self):\n",
    "        super(SurrogateModel, self).__init__()\n",
    "        self.conv1 = nn.Conv2d(3, 64, kernel_size=3, stride=1, padding=1)\n",
    "        self.conv2 = nn.Conv2d(64, 128, kernel_size=3, stride=1, padding=1)\n",
    "        self.conv3 = nn.Conv2d(128, 256, kernel_size=3, stride=1, padding=1)\n",
    "        self.fc = nn.Linear(256 * 4 * 4, 1024)\n",
    "\n",
    "    def forward(self, x):\n",
    "        x = nn.functional.relu(self.conv1(x))\n",
    "        x = nn.functional.max_pool2d(x, 2)\n",
    "        x = nn.functional.relu(self.conv2(x))\n",
    "        x = nn.functional.max_pool2d(x, 2)\n",
    "        x = nn.functional.relu(self.conv3(x))\n",
    "        x = nn.functional.max_pool2d(x, 2)\n",
    "        x = x.view(x.size(0), -1)  # Flatten the tensor\n",
    "        x = self.fc(x)\n",
    "        return x\n",
    "\n",
    "model = SurrogateModel()"
   ]
  },
  {
   "cell_type": "code",
   "execution_count": 7,
   "metadata": {},
   "outputs": [],
   "source": [
    "# Define a contrastive loss function\n",
    "def contrastive_loss(output1, output2):\n",
    "    return torch.dist(output1, output2, p=2)"
   ]
  },
  {
   "cell_type": "code",
   "execution_count": 8,
   "metadata": {},
   "outputs": [],
   "source": [
    "dataset = torch.load(\"ModelStealingPub.pt\")"
   ]
  },
  {
   "cell_type": "code",
   "execution_count": 9,
   "metadata": {},
   "outputs": [],
   "source": [
    "from torchvision.transforms.functional import to_pil_image, to_tensor\n",
    "\n",
    "# Convert all images to 3-channel images\n",
    "images = [to_tensor(img.convert(\"RGB\")) for img in dataset.imgs]\n",
    "# Convert the list to a tensor\n",
    "inputs_tensor = torch.stack(images)\n",
    "# Create a TensorDataset\n",
    "images_dataset = TensorDataset(inputs_tensor)\n",
    "# Create a DataLoader\n",
    "images_loader = torch.utils.data.DataLoader(images_dataset, batch_size=50, shuffle=False)"
   ]
  },
  {
   "cell_type": "code",
   "execution_count": 10,
   "metadata": {},
   "outputs": [],
   "source": [
    "from torchvision import transforms\n",
    "\n",
    "def augment_image(img_tensor):\n",
    "    # Define the sequence of transformations\n",
    "    transform = transforms.Compose([\n",
    "        transforms.ToPILImage(),\n",
    "        transforms.RandomHorizontalFlip(),\n",
    "        transforms.RandomRotation(10),\n",
    "        transforms.ToTensor(),\n",
    "        transforms.Normalize(mean=[0.485, 0.456, 0.406], std=[0.229, 0.224, 0.225])\n",
    "    ])\n",
    "\n",
    "    # Apply the transformations\n",
    "    img_augmented = transform(img_tensor)\n",
    "\n",
    "    return img_augmented\n",
    "\n",
    "# Assume x is your tensor\n",
    "x = torch.randn(1, 3, 32, 32)\n",
    "\n",
    "# Augment the image\n",
    "x_augmented = augment_image(x[0])  # The [0] is to remove the batch dimension\n",
    "\n",
    "# Add the batch dimension back\n",
    "x_augmented = x_augmented.unsqueeze(0)"
   ]
  },
  {
   "cell_type": "code",
   "execution_count": 11,
   "metadata": {},
   "outputs": [],
   "source": [
    "def train_surrogate_model_return_adveserial_samples(surrogate_model, dataset, embeddings, contrastive_loss):\n",
    "    optimizer = torch.optim.Adam(surrogate_model.parameters(), lr=1e-3)\n",
    "    surrogate_model.train()\n",
    "    batch_size = 32\n",
    "    num_epochs = 1\n",
    "    loss = 0.0\n",
    "    loss_copy = 0.0\n",
    "    for epoch in range(num_epochs):\n",
    "        for i in range(1000):\n",
    "            \n",
    "            input = augment_image(dataset[i][0]).unsqueeze(0) + torch.randn(1, 3, 32, 32)*0.01\n",
    "            output = surrogate_model(input)\n",
    "            embedding = torch.tensor(embeddings[i]).unsqueeze(0)\n",
    "            loss += contrastive_loss(output, embedding)\n",
    "                \n",
    "            if (i+1) % batch_size == 0:\n",
    "                optimizer.zero_grad()\n",
    "                loss.backward()\n",
    "                optimizer.step()\n",
    "                loss_copy = loss.item()\n",
    "                loss = 0.0\n",
    "        print(f\"Epoch: {epoch+1}, Loss: {loss_copy}\")\n",
    "        \n",
    "    print(\"Training done\")                \n",
    "    # Create adversarial samples\n",
    "    adversarial_samples = []\n",
    "    epsilon = 0.001\n",
    "    for i in range(1000):\n",
    "        input = dataset[i][0].unsqueeze(0)\n",
    "        input.requires_grad = True\n",
    "        output = surrogate_model(input)\n",
    "        embedding = torch.tensor(embeddings[i]).unsqueeze(0)\n",
    "        loss = contrastive_loss(output, embedding)\n",
    "        loss.backward()\n",
    "        adv_sample =  input + epsilon*torch.sign(input.grad) \n",
    "        adversarial_samples.append(adv_sample[0])\n",
    "    \n",
    "    return surrogate_model, adversarial_samples\n",
    "    "
   ]
  },
  {
   "cell_type": "code",
   "execution_count": 12,
   "metadata": {},
   "outputs": [],
   "source": [
    "def train_surrogate_model_return_adveserial_samples_tensor(surrogate_model, dataset, embeddings, contrastive_loss):\n",
    "    optimizer = torch.optim.Adam(surrogate_model.parameters(), lr=1e-3)\n",
    "    surrogate_model.train()\n",
    "    batch_size = 32\n",
    "    num_epochs = 1\n",
    "    loss = 0.0\n",
    "    loss_copy = 0.0\n",
    "    for epoch in range(num_epochs):\n",
    "        for i in range(1000):\n",
    "            \n",
    "            input = augment_image(dataset[i]).unsqueeze(0) + torch.randn(1, 3, 32, 32)*0.01\n",
    "            output = surrogate_model(input)\n",
    "            embedding = torch.tensor(embeddings[i]).unsqueeze(0)\n",
    "            loss += contrastive_loss(output, embedding)\n",
    "                \n",
    "            if (i+1) % batch_size == 0:\n",
    "                optimizer.zero_grad()\n",
    "                loss.backward()\n",
    "                optimizer.step()\n",
    "                loss_copy = loss.item()\n",
    "                loss = 0.0\n",
    "        print(f\"Epoch: {epoch+1}, Loss: {loss_copy}\")\n",
    "        \n",
    "    print(\"Training done\")                \n",
    "    # Create adversarial samples\n",
    "    adversarial_samples = []\n",
    "    epsilon = 0.001\n",
    "    for i in range(1000):\n",
    "        input = dataset[i].unsqueeze(0).detach()\n",
    "        input.requires_grad = True\n",
    "        output = surrogate_model(input)\n",
    "        embedding = torch.tensor(embeddings[i]).unsqueeze(0)\n",
    "        loss = contrastive_loss(output, embedding)\n",
    "        loss.backward()\n",
    "        adv_sample =  input + epsilon*torch.sign(input.grad)\n",
    "        adversarial_samples.append(adv_sample[0])\n",
    "    \n",
    "    return surrogate_model, adversarial_samples\n",
    "    "
   ]
  },
  {
   "cell_type": "code",
   "execution_count": 13,
   "metadata": {},
   "outputs": [],
   "source": [
    "def query_api_tensor(adversarial_samples):\n",
    "    adversarial_output = []\n",
    "    for i in range(13):\n",
    "        adversarial_output.extend(model_stealing_tensor(adversarial_samples[i*1000:(i+1)*1000], port=PORT))\n",
    "        # wait for 1 minute\n",
    "        time.sleep(60)\n",
    "    return adversarial_output"
   ]
  },
  {
   "cell_type": "code",
   "execution_count": 14,
   "metadata": {},
   "outputs": [],
   "source": [
    "def query_api(samples):\n",
    "    output = []\n",
    "    for i in range(13):\n",
    "        output.extend(model_stealing(samples[i*1000:(i+1)*1000], port=PORT))\n",
    "        # wait for 1 minute\n",
    "        time.sleep(60)\n",
    "    return output"
   ]
  },
  {
   "cell_type": "code",
   "execution_count": 17,
   "metadata": {},
   "outputs": [],
   "source": [
    "out = query_api(dataset.imgs)\n",
    "time.sleep(1)"
   ]
  },
  {
   "cell_type": "code",
   "execution_count": 62,
   "metadata": {},
   "outputs": [
    {
     "name": "stdout",
     "output_type": "stream",
     "text": [
      "Epoch: 1, Loss: 10593.818359375\n",
      "Training done\n",
      "Epoch: 1, Loss: 13853.533203125\n",
      "Training done\n"
     ]
    },
    {
     "ename": "Exception",
     "evalue": "Model stealing failed. Code: 429, content: {'detail': 'Too many requests, only one per minute allowed'}",
     "output_type": "error",
     "traceback": [
      "\u001b[1;31m---------------------------------------------------------------------------\u001b[0m",
      "\u001b[1;31mException\u001b[0m                                 Traceback (most recent call last)",
      "Cell \u001b[1;32mIn[62], line 9\u001b[0m\n\u001b[0;32m      7\u001b[0m \u001b[38;5;28;01mfor\u001b[39;00m i \u001b[38;5;129;01min\u001b[39;00m \u001b[38;5;28mrange\u001b[39m(epochs):\n\u001b[0;32m      8\u001b[0m     model, adversarial_samples \u001b[38;5;241m=\u001b[39m train_surrogate_model_return_adveserial_samples_tensor(model,adversarial_samples , out, contrastive_loss)\n\u001b[1;32m----> 9\u001b[0m     out \u001b[38;5;241m=\u001b[39m \u001b[43mquery_api_tensor\u001b[49m\u001b[43m(\u001b[49m\u001b[43madversarial_samples\u001b[49m\u001b[43m)\u001b[49m\n",
      "Cell \u001b[1;32mIn[58], line 4\u001b[0m, in \u001b[0;36mquery_api_tensor\u001b[1;34m(adversarial_samples)\u001b[0m\n\u001b[0;32m      2\u001b[0m adversarial_output \u001b[38;5;241m=\u001b[39m []\n\u001b[0;32m      3\u001b[0m \u001b[38;5;28;01mfor\u001b[39;00m i \u001b[38;5;129;01min\u001b[39;00m \u001b[38;5;28mrange\u001b[39m(\u001b[38;5;241m13\u001b[39m):\n\u001b[1;32m----> 4\u001b[0m     adversarial_output\u001b[38;5;241m.\u001b[39mextend(\u001b[43mmodel_stealing_tensor\u001b[49m\u001b[43m(\u001b[49m\u001b[43madversarial_samples\u001b[49m\u001b[43m[\u001b[49m\u001b[43mi\u001b[49m\u001b[38;5;241;43m*\u001b[39;49m\u001b[38;5;241;43m1000\u001b[39;49m\u001b[43m:\u001b[49m\u001b[43m(\u001b[49m\u001b[43mi\u001b[49m\u001b[38;5;241;43m+\u001b[39;49m\u001b[38;5;241;43m1\u001b[39;49m\u001b[43m)\u001b[49m\u001b[38;5;241;43m*\u001b[39;49m\u001b[38;5;241;43m1000\u001b[39;49m\u001b[43m]\u001b[49m\u001b[43m,\u001b[49m\u001b[43m \u001b[49m\u001b[43mport\u001b[49m\u001b[38;5;241;43m=\u001b[39;49m\u001b[43mPORT\u001b[49m\u001b[43m)\u001b[49m)\n\u001b[0;32m      5\u001b[0m     \u001b[38;5;66;03m# wait for 1 minute\u001b[39;00m\n\u001b[0;32m      6\u001b[0m     \u001b[38;5;28;01mbreak\u001b[39;00m\n",
      "Cell \u001b[1;32mIn[19], line 25\u001b[0m, in \u001b[0;36mmodel_stealing_tensor\u001b[1;34m(images, port)\u001b[0m\n\u001b[0;32m     23\u001b[0m     \u001b[38;5;28;01mreturn\u001b[39;00m representation\n\u001b[0;32m     24\u001b[0m \u001b[38;5;28;01melse\u001b[39;00m:\n\u001b[1;32m---> 25\u001b[0m     \u001b[38;5;28;01mraise\u001b[39;00m \u001b[38;5;167;01mException\u001b[39;00m(\n\u001b[0;32m     26\u001b[0m         \u001b[38;5;124mf\u001b[39m\u001b[38;5;124m\"\u001b[39m\u001b[38;5;124mModel stealing failed. Code: \u001b[39m\u001b[38;5;132;01m{\u001b[39;00mresponse\u001b[38;5;241m.\u001b[39mstatus_code\u001b[38;5;132;01m}\u001b[39;00m\u001b[38;5;124m, content: \u001b[39m\u001b[38;5;132;01m{\u001b[39;00mresponse\u001b[38;5;241m.\u001b[39mjson()\u001b[38;5;132;01m}\u001b[39;00m\u001b[38;5;124m\"\u001b[39m\n\u001b[0;32m     27\u001b[0m     )\n",
      "\u001b[1;31mException\u001b[0m: Model stealing failed. Code: 429, content: {'detail': 'Too many requests, only one per minute allowed'}"
     ]
    }
   ],
   "source": [
    "model = SurrogateModel()\n",
    "model, adversarial_samples = train_surrogate_model_return_adveserial_samples(model,images_dataset , out, contrastive_loss)\n",
    "out = query_api_tensor(adversarial_samples)\n",
    "\n",
    "epochs = 10\n",
    "\n",
    "for i in range(epochs):\n",
    "    model, adversarial_samples = train_surrogate_model_return_adveserial_samples_tensor(model,adversarial_samples , out, contrastive_loss)\n",
    "    out = query_api_tensor(adversarial_samples)"
   ]
  },
  {
   "cell_type": "code",
   "execution_count": null,
   "metadata": {},
   "outputs": [],
   "source": [
    "#### SUBMISSION ####\n",
    "\n",
    "# Create a dummy model\n",
    "model = nn.Sequential(nn.Flatten(), nn.Linear(32*32*3, 1024))\n",
    "\n",
    "path = 'dummy_submission.onnx'\n",
    "\n",
    "torch.onnx.export(\n",
    "    model,\n",
    "    torch.randn(1, 3, 32, 32),\n",
    "    path,\n",
    "    export_params=True,\n",
    "    input_names=[\"x\"],\n",
    ")\n",
    "\n",
    "#### Tests ####\n",
    "\n",
    "# (these are being ran on the eval endpoint for every submission)\n",
    "with open(path, \"rb\") as f:\n",
    "    model = f.read()\n",
    "    try:\n",
    "        stolen_model = ort.InferenceSession(model)\n",
    "    except Exception as e:\n",
    "        raise Exception(f\"Invalid model, {e=}\")\n",
    "    try:\n",
    "        out = stolen_model.run(\n",
    "            None, {\"x\": np.random.randn(1, 3, 32, 32).astype(np.float32)}\n",
    "        )[0][0]\n",
    "    except Exception as e:\n",
    "        raise Exception(f\"Some issue with the input, {e=}\")\n",
    "    assert out.shape == (1024,), \"Invalid output shape\"\n",
    "\n",
    "# Send the model to the server\n",
    "response = requests.post(\"http://34.71.138.79:9090/stealing\", files={\"file\": open(path, \"rb\")}, headers={\"token\": TOKEN, \"seed\": SEED})\n",
    "print(response.json())"
   ]
  },
  {
   "cell_type": "code",
   "execution_count": 46,
   "metadata": {},
   "outputs": [
    {
     "data": {
      "text/plain": [
       "<matplotlib.image.AxesImage at 0x22dc6de0e80>"
      ]
     },
     "execution_count": 46,
     "metadata": {},
     "output_type": "execute_result"
    },
    {
     "data": {
      "image/png": "[encoded data removed]",
      "text/plain": [
       "<Figure size 640x480 with 1 Axes>"
      ]
     },
     "metadata": {},
     "output_type": "display_data"
    }
   ],
   "source": [
    "plt.imshow(dataset.imgs[80])"
   ]
  },
  {
   "cell_type": "code",
   "execution_count": 47,
   "metadata": {},
   "outputs": [
    {
     "name": "stderr",
     "output_type": "stream",
     "text": [
      "Clipping input data to the valid range for imshow with RGB data ([0..1] for floats or [0..255] for integers).\n"
     ]
    },
    {
     "data": {
      "text/plain": [
       "<matplotlib.image.AxesImage at 0x22dbe50e490>"
      ]
     },
     "execution_count": 47,
     "metadata": {},
     "output_type": "execute_result"
    },
    {
     "data": {
      "image/png": "[encoded data removed]",
      "text/plain": [
       "<Figure size 640x480 with 1 Axes>"
      ]
     },
     "metadata": {},
     "output_type": "display_data"
    }
   ],
   "source": [
    "plt.imshow(adversarial_samples[80].detach().numpy().transpose((1, 2, 0)))"
   ]
  },
  {
   "cell_type": "code",
   "execution_count": 126,
   "metadata": {},
   "outputs": [
    {
     "data": {
      "text/plain": [
       "13000"
      ]
     },
     "execution_count": 126,
     "metadata": {},
     "output_type": "execute_result"
    }
   ],
   "source": [
    "len(images_dataset)"
   ]
  }
 ],
 "metadata": {
  "kernelspec": {
   "display_name": "tml",
   "language": "python",
   "name": "python3"
  },
  "language_info": {
   "codemirror_mode": {
    "name": "ipython",
    "version": 3
   },
   "file_extension": ".py",
   "mimetype": "text/x-python",
   "name": "python",
   "nbconvert_exporter": "python",
   "pygments_lexer": "ipython3",
   "version": "3.9.13"
  },
  "orig_nbformat": 4
 },
 "nbformat": 4,
 "nbformat_minor": 2
}

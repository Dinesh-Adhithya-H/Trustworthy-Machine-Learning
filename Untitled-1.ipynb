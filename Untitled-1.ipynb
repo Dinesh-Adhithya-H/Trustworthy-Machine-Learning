{
 "cells": [
  {
   "cell_type": "code",
   "execution_count": null,
   "metadata": {},
   "outputs": [],
   "source": [
    "# use MNIST train data to train a simple Feed forward NN, then visualize the loss surface\n",
    "# 1. train a simple feed forward NN\n",
    "# 2. visualize the loss surface\n",
    "# 3. visualize the loss surface with PCA, t-SNE, UMAP, etc."
   ]
  },
  {
   "cell_type": "code",
   "execution_count": 1,
   "metadata": {},
   "outputs": [
    {
     "name": "stderr",
     "output_type": "stream",
     "text": [
      "C:\\Users\\HP\\AppData\\Local\\Packages\\PythonSoftwareFoundation.Python.3.9_qbz5n2kfra8p0\\LocalCache\\local-packages\\Python39\\site-packages\\tqdm\\auto.py:21: TqdmWarning: IProgress not found. Please update jupyter and ipywidgets. See https://ipywidgets.readthedocs.io/en/stable/user_install.html\n",
      "  from .autonotebook import tqdm as notebook_tqdm\n"
     ]
    }
   ],
   "source": [
    "import torch\n",
    "import torch.nn as nn\n",
    "import torch.optim as optim\n",
    "from torchvision import datasets, transforms\n",
    "import matplotlib.pyplot as plt\n",
    "from sklearn.decomposition import PCA\n",
    "from sklearn.manifold import TSNE\n",
    "import umap\n",
    "import numpy as np"
   ]
  },
  {
   "cell_type": "code",
   "execution_count": 3,
   "metadata": {},
   "outputs": [],
   "source": [
    "\n",
    "\n",
    "# Load MNIST dataset\n",
    "transform = transforms.ToTensor()\n",
    "train_data = datasets.MNIST(root='data', train=True, download=True, transform=transform)\n",
    "train_loader = torch.utils.data.DataLoader(train_data, batch_size=64, shuffle=True)\n",
    "\n",
    "test_data = datasets.MNIST(root='data', train=False, download=True, transform=transform)\n",
    "test_loader = torch.utils.data.DataLoader(test_data, batch_size=64, shuffle=True)\n",
    "\n",
    "# Define a simple feed forward NN\n",
    "class Net(nn.Module):\n",
    "    def __init__(self):\n",
    "        super(Net, self).__init__()\n",
    "        self.fc1 = nn.Linear(28*28, 50)\n",
    "        self.fc2 = nn.Linear(50, 10)\n",
    "\n",
    "    def forward(self, x):\n",
    "        x = x.view(-1, 28*28)\n",
    "        x = torch.relu(self.fc1(x))\n",
    "        x = self.fc2(x)\n",
    "        return x\n",
    "\n",
    "# Initialize the NN and the optimizer\n",
    "model = Net()\n",
    "optimizer = optim.SGD(model.parameters(), lr=0.01)\n",
    "\n",
    "# Train the NN and record the loss at each step\n",
    "gradient_magnitudes = []\n",
    "for epoch in range(10):\n",
    "    for images, labels in train_loader:\n",
    "        images.requires_grad = True\n",
    "        optimizer.zero_grad()\n",
    "        output = model(images)\n",
    "        loss = nn.CrossEntropyLoss()(output, labels)\n",
    "        loss.backward()\n",
    "        gradient_magnitudes.append(torch.norm(images.grad,p=1)/64)\n",
    "        optimizer.step()"
   ]
  },
  {
   "cell_type": "code",
   "execution_count": 6,
   "metadata": {},
   "outputs": [],
   "source": [
    "# add random noise to the images\n",
    "gradient_magnitudes_test = []\n",
    "for images, labels in test_loader:\n",
    "    images += torch.randn(images.shape)\n",
    "    images = torch.clamp(images, 0, 1)\n",
    "    images.requires_grad = True\n",
    "    y = model(images)\n",
    "    loss = nn.CrossEntropyLoss()(y, labels)\n",
    "    loss.backward()\n",
    "    gradient_magnitudes_test.append(torch.norm(images.grad,p=1)/64)"
   ]
  },
  {
   "cell_type": "code",
   "execution_count": 5,
   "metadata": {},
   "outputs": [],
   "source": [
    "# test images and their gradients\n",
    "gradient_magnitudes_test = []\n",
    "test_images = []\n",
    "epsilon = 1\n",
    "for images, labels in test_loader:\n",
    "    images.requires_grad = True\n",
    "    output = model(images)\n",
    "    loss = nn.CrossEntropyLoss()(output, labels)\n",
    "    loss.backward()\n",
    "    gradient_magnitudes_test.append(torch.norm(images.grad,p=1)/64)\n",
    "    test_images.append((images+epsilon * torch.sign(images.grad)).detach())"
   ]
  },
  {
   "cell_type": "code",
   "execution_count": 16,
   "metadata": {},
   "outputs": [],
   "source": [
    "# store gradients for image + epsilon * gradient\n",
    "epsilon = 0.01\n",
    "gradient_magnitudes_perturbed = []\n",
    "i=0\n",
    "for images,labels in test_loader:\n",
    "    images = test_images[i]\n",
    "    images.requires_grad = True\n",
    "    output = model(images)\n",
    "    loss = nn.CrossEntropyLoss()(output, labels)\n",
    "    loss.backward()\n",
    "    gradient_magnitudes_perturbed.append(torch.norm(images.grad,p=1)/64)\n",
    "    i+=1"
   ]
  },
  {
   "cell_type": "code",
   "execution_count": 7,
   "metadata": {},
   "outputs": [],
   "source": [
    "gradient_magnitudes_noise = []\n",
    "for images, labels in test_loader:\n",
    "    images = epsilon*images + torch.randn(images.shape)\n",
    "    images = torch.clamp(images, 0, 1)\n",
    "    images.requires_grad = True\n",
    "    output = model(images)\n",
    "    loss = nn.CrossEntropyLoss()(output, labels)\n",
    "    loss.backward()\n",
    "    gradient_magnitudes_noise.append(torch.norm(images.grad,p=1)/64)"
   ]
  },
  {
   "cell_type": "code",
   "execution_count": 14,
   "metadata": {},
   "outputs": [],
   "source": [
    "gradient_magnitude_only_noise = []\n",
    "for images, labels in test_loader:\n",
    "    #labels = torch.zeros(labels.shape[0],10)\n",
    "    images = torch.randn(images.shape)\n",
    "    images = torch.clamp(images, 0, 1)\n",
    "    images.requires_grad = True\n",
    "    output = model(images)\n",
    "    loss = nn.CrossEntropyLoss()(output, labels)\n",
    "    loss.backward()\n",
    "    gradient_magnitude_only_noise.append(torch.norm(images.grad,p=1)/64)"
   ]
  },
  {
   "cell_type": "code",
   "execution_count": 18,
   "metadata": {},
   "outputs": [
    {
     "data": {
      "image/png": "[encoded data removed]",
      "text/plain": [
       "<Figure size 640x480 with 1 Axes>"
      ]
     },
     "metadata": {},
     "output_type": "display_data"
    }
   ],
   "source": [
    "#plt.hist(gradient_magnitudes_random,bins=20,label = 'image + random noise')\n",
    "plt.hist(gradient_magnitudes,bins=200,label = 'train')\n",
    "plt.hist(gradient_magnitudes_test,bins=20,label='test')\n",
    "plt.hist(gradient_magnitudes_perturbed,bins=20,label = 'test perturbed')\n",
    "plt.hist(gradient_magnitudes_noise,bins=20,label = 'noise + little image')\n",
    "plt.hist(gradient_magnitude_only_noise,bins=20,label = 'only noise')\n",
    "plt.xlim(-1,2)\n",
    "plt.legend()\n",
    "plt.show()"
   ]
  },
  {
   "cell_type": "code",
   "execution_count": 31,
   "metadata": {},
   "outputs": [],
   "source": [
    "# claculate "
   ]
  },
  {
   "cell_type": "code",
   "execution_count": 32,
   "metadata": {},
   "outputs": [
    {
     "data": {
      "text/plain": [
       "torch.Size([50, 784])"
      ]
     },
     "execution_count": 32,
     "metadata": {},
     "output_type": "execute_result"
    }
   ],
   "source": [
    "train_images_grad.shape"
   ]
  },
  {
   "cell_type": "code",
   "execution_count": null,
   "metadata": {},
   "outputs": [],
   "source": [
    "# test images\n",
    "test_images = []\n",
    "test_labels = []\n",
    "for images, labels in test_loader:\n",
    "    test_images.append(images)\n",
    "    test_labels.append(labels)\n",
    "\n",
    "test_images = torch.cat(test_images)\n",
    "test_labels = torch.cat(test_labels)\n",
    "output = model(test_images)\n",
    "loss = nn.CrossEntropyLoss()(output, test_labels)\n",
    "loss.backward()\n",
    "test_images_grad = model.grad"
   ]
  },
  {
   "cell_type": "code",
   "execution_count": null,
   "metadata": {},
   "outputs": [],
   "source": []
  },
  {
   "cell_type": "code",
   "execution_count": 25,
   "metadata": {},
   "outputs": [],
   "source": [
    "# diffrentiate model wrt to weights for train images, test images, test images with noise , adversarial images and just noise\n",
    "# train images\n",
    "\n",
    "\n",
    "\n",
    "\n",
    "# test images with noise\n",
    "test_images_noise = []\n",
    "test_labels_noise = []\n",
    "epsilon = 0.01\n",
    "for images, labels in test_loader:\n",
    "    images = epsilon*images + torch.randn(images.shape)\n",
    "    images = torch.clamp(images, 0, 1)\n",
    "    test_images_noise.append(images)\n",
    "    test_labels_noise.append(labels)\n",
    "\n",
    "test_images_noise = torch.cat(test_images_noise)\n",
    "test_labels_noise = torch.cat(test_labels_noise)\n",
    "test_images_noise.requires_grad = True\n",
    "output = model(test_images_noise)\n",
    "loss = nn.CrossEntropyLoss()(output, test_labels_noise)\n",
    "loss.backward()\n",
    "test_images_noise_grad = test_images_noise.grad\n",
    "\n",
    "# adversarial images\n",
    "test_images_perturbed = []\n",
    "test_labels_perturbed = []\n",
    "epsilon = 0.01\n",
    "for images, labels in test_loader:\n",
    "    images.requires_grad = True\n",
    "    output = model(images)\n",
    "    loss = nn.CrossEntropyLoss()(output, labels)\n",
    "    loss.backward()\n",
    "    \n",
    "    test_images_perturbed.append(images+epsilon*torch.sign(images.grad))\n",
    "    test_labels_perturbed.append(labels)\n",
    "\n",
    "test_images_perturbed = torch.cat(test_images_perturbed)\n",
    "test_labels_perturbed = torch.cat(test_labels_perturbed)\n",
    "test_images_perturbed = test_images_perturbed.detach()\n",
    "test_images_perturbed.requires_grad = True\n",
    "output = model(test_images_perturbed)\n",
    "loss = nn.CrossEntropyLoss()(output, test_labels_perturbed)\n",
    "loss.backward()\n",
    "test_images_perturbed_grad = test_images_perturbed.grad\n",
    "\n",
    "# only noise\n",
    "test_images_only_noise = []\n",
    "test_labels_only_noise = []\n",
    "for images, labels in test_loader:\n",
    "    images = torch.randn(images.shape)\n",
    "    images = torch.clamp(images, 0, 1)\n",
    "    test_images_only_noise.append(images)\n",
    "    test_labels_only_noise.append(labels)\n",
    "\n",
    "test_images_only_noise = torch.cat(test_images_only_noise)\n",
    "test_labels_only_noise = torch.cat(test_labels_only_noise)\n",
    "output = model(test_images_only_noise)\n",
    "loss = nn.CrossEntropyLoss()(output, test_labels_only_noise)\n",
    "loss.backward()\n",
    "test_images_only_noise_grad = test_images_only_noise.grad\n",
    "\n",
    "# flatten the gradients\n",
    "train_images_grad = train_images_grad.view(train_images_grad.shape[0],-1)\n",
    "test_images_grad = test_images_grad.view(test_images_grad.shape[0],-1)\n",
    "test_images_noise_grad = test_images_noise_grad.view(test_images_noise_grad.shape[0],-1)\n",
    "test_images_perturbed_grad = test_images_perturbed_grad.view(test_images_perturbed_grad.shape[0],-1)\n",
    "test_images_only_noise_grad = test_images_only_noise_grad.view(test_images_only_noise_grad.shape[0],-1)\n",
    "\n",
    "# norm of the gradients\n",
    "train_images_grad_norm = torch.norm(train_images_grad,p=1,dim=1)\n",
    "test_images_grad_norm = torch.norm(test_images_grad,p=1,dim=1)\n",
    "test_images_noise_grad_norm = torch.norm(test_images_noise_grad,p=1,dim=1)\n",
    "test_images_perturbed_grad_norm = torch.norm(test_images_perturbed_grad,p=1,dim=1)\n",
    "test_images_only_noise_grad_norm = torch.norm(test_images_only_noise_grad,p=1,dim=1)\n",
    "\n",
    "\n"
   ]
  },
  {
   "cell_type": "code",
   "execution_count": 29,
   "metadata": {},
   "outputs": [
    {
     "data": {
      "image/png": "[encoded data removed]",
      "text/plain": [
       "<Figure size 640x480 with 1 Axes>"
      ]
     },
     "metadata": {},
     "output_type": "display_data"
    }
   ],
   "source": [
    "# histogram of the norm of the gradients\n",
    "#plt.hist(train_images_grad_norm,bins=20,label = 'train')\n",
    "plt.hist(test_images_grad_norm,bins=20,label='test')\n",
    "plt.hist(test_images_noise_grad_norm,bins=20,label = 'test noise')\n",
    "plt.hist(test_images_perturbed_grad_norm,bins=20,label = 'test perturbed')\n",
    "plt.hist(test_images_only_noise_grad_norm,bins=20,label = 'only noise')\n",
    "plt.legend()\n",
    "plt.show()"
   ]
  },
  {
   "cell_type": "code",
   "execution_count": null,
   "metadata": {},
   "outputs": [],
   "source": []
  }
 ],
 "metadata": {
  "kernelspec": {
   "display_name": "Python 3",
   "language": "python",
   "name": "python3"
  },
  "language_info": {
   "codemirror_mode": {
    "name": "ipython",
    "version": 3
   },
   "file_extension": ".py",
   "mimetype": "text/x-python",
   "name": "python",
   "nbconvert_exporter": "python",
   "pygments_lexer": "ipython3",
   "version": "3.9.13"
  }
 },
 "nbformat": 4,
 "nbformat_minor": 2
}
